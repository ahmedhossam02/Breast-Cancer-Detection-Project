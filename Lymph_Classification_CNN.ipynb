{
 "cells": [
  {
   "cell_type": "code",
   "execution_count": 42,
   "metadata": {},
   "outputs": [],
   "source": [
    "import numpy as np\n",
    "import os\n",
    "import cv2  # For resizing images\n",
    "import pydicom  # For handling DICOM files\n",
    "import pandas as pd\n",
    "from sklearn.model_selection import train_test_split\n",
    "from sklearn.preprocessing import LabelEncoder"
   ]
  },
  {
   "cell_type": "code",
   "execution_count": 43,
   "metadata": {},
   "outputs": [],
   "source": [
    "# dataset_1\n",
    "def load_dicom_images(folder_path, image_size=(128, 128)):\n",
    "    images = []\n",
    "    \n",
    "    for filename in os.listdir(folder_path):\n",
    "        if filename.endswith(\".dcm\"):\n",
    "            # Load DICOM image\n",
    "            dicom_path = os.path.join(folder_path, filename)\n",
    "            dicom_data = pydicom.dcmread(dicom_path)\n",
    "            \n",
    "            # Convert DICOM to a NumPy array\n",
    "            image = dicom_data.pixel_array\n",
    "            \n",
    "            # Resize to a standard size\n",
    "            image_resized = cv2.resize(image, image_size)\n",
    "            \n",
    "            # Normalize pixel values to [0, 1]\n",
    "            image_normalized = image_resized / np.max(image_resized)\n",
    "            \n",
    "            # Append the image\n",
    "            images.append(image_normalized)\n",
    "\n",
    "\n",
    "    # Convert to numpy arrays\n",
    "    images = np.array(images).reshape(-1, image_size[0], image_size[1], 1)  # Add channel dimension\n",
    "    \n",
    "    return images"
   ]
  },
  {
   "cell_type": "code",
   "execution_count": 44,
   "metadata": {},
   "outputs": [],
   "source": [
    "# dataset_2\n",
    "def load_png_images(folder_path, image_size=(128, 128)):\n",
    "    images = []\n",
    "    # Iterate through files in the directory\n",
    "    for filename in os.listdir(folder_path):\n",
    "        if filename.endswith(\".jpeg\"):\n",
    "            # Load the PNG image\n",
    "            png_path = os.path.join(folder_path, filename)\n",
    "            image = cv2.imread(png_path, cv2.IMREAD_GRAYSCALE)  # Read as grayscale\n",
    "\n",
    "            # Resize to a standard size\n",
    "            image_resized = cv2.resize(image, image_size)\n",
    "\n",
    "            # Normalize pixel values to [0, 1]\n",
    "            image_normalized = image_resized / 255.0  # Rescale pixel values to [0, 1]\n",
    "\n",
    "            # Append the image\n",
    "            images.append(image_normalized)\n",
    "\n",
    "    # Convert images to numpy array and add channel dimension\n",
    "    images = np.array(images).reshape(-1, image_size[0], image_size[1], 1)  # Add channel dimension\n",
    "\n",
    "    return images"
   ]
  },
  {
   "cell_type": "code",
   "execution_count": 54,
   "metadata": {},
   "outputs": [
    {
     "data": {
      "text/plain": [
       "(20,)"
      ]
     },
     "execution_count": 54,
     "metadata": {},
     "output_type": "execute_result"
    }
   ],
   "source": [
    "# Load images and labels\n",
    "folder_path1 = '/MYWork/NU/ML/ML Project/Dataset'\n",
    "folder_path2=\"/MYWork/NU/ML/ML Project/Dataset2\"\n",
    "images1= load_dicom_images(folder_path1)\n",
    "images2= load_png_images(folder_path2)\n",
    "images = np.concatenate([images1, images2], axis=0)\n",
    "labels=pd.read_csv(\"/MYWork/NU/ML/ML Project/image_lables.csv\")\n",
    "labels_flattend=labels[\"image_labeling\"].values.ravel()\n",
    "labels_Encoded=LabelEncoder().fit_transform(labels_flattend).astype(float)\n",
    "X_train,X_test,y_train,y_test=train_test_split(images,labels_Encoded,test_size=0.2,random_state=42)"
   ]
  },
  {
   "cell_type": "code",
   "execution_count": null,
   "metadata": {},
   "outputs": [],
   "source": []
  },
  {
   "cell_type": "code",
   "execution_count": null,
   "metadata": {},
   "outputs": [],
   "source": []
  },
  {
   "cell_type": "code",
   "execution_count": null,
   "metadata": {},
   "outputs": [],
   "source": []
  }
 ],
 "metadata": {
  "kernelspec": {
   "display_name": "Python 3",
   "language": "python",
   "name": "python3"
  },
  "language_info": {
   "codemirror_mode": {
    "name": "ipython",
    "version": 3
   },
   "file_extension": ".py",
   "mimetype": "text/x-python",
   "name": "python",
   "nbconvert_exporter": "python",
   "pygments_lexer": "ipython3",
   "version": "3.12.6"
  }
 },
 "nbformat": 4,
 "nbformat_minor": 2
}
