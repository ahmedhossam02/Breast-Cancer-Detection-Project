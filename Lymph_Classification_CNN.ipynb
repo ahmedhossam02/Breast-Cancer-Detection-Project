{
 "cells": [
  {
   "cell_type": "code",
   "execution_count": 40,
   "metadata": {},
   "outputs": [],
   "source": [
    "import numpy as np\n",
    "import os\n",
    "import cv2  # For resizing images\n",
    "import pydicom  # For handling DICOM files\n",
    "import pandas as pd\n",
    "from sklearn.model_selection import train_test_split"
   ]
  },
  {
   "cell_type": "code",
   "execution_count": 50,
   "metadata": {},
   "outputs": [],
   "source": [
    "def load_dicom_images(folder_path, image_size=(128, 128)):\n",
    "    images = []\n",
    "    labels = []\n",
    "    \n",
    "    for filename in os.listdir(folder_path):\n",
    "        if filename.endswith(\".dcm\"):\n",
    "            # Load DICOM image\n",
    "            dicom_path = os.path.join(folder_path, filename)\n",
    "            dicom_data = pydicom.dcmread(dicom_path)\n",
    "            \n",
    "            # Convert DICOM to a NumPy array\n",
    "            image = dicom_data.pixel_array\n",
    "            \n",
    "            # Resize to a standard size\n",
    "            image_resized = cv2.resize(image, image_size)\n",
    "            \n",
    "            # Normalize pixel values to [0, 1]\n",
    "            image_normalized = image_resized / np.max(image_resized)\n",
    "            \n",
    "            # Append the image\n",
    "            images.append(image_normalized)\n",
    "\n",
    "            # Extract the number from the filename\n",
    "            file_number = int(filename.split('-')[1].split('.')[0])  # Extracting 001 from 1-001.dcm\n",
    "            # Synthetic label: 0 for even numbers, 1 for odd numbers\n",
    "            label = \"normal\" if file_number % 2 == 0 else \"abmormal\"\n",
    "            labels.append(label)\n",
    "\n",
    "    # Convert to numpy arrays\n",
    "    images = np.array(images).reshape(-1, image_size[0], image_size[1], 1)  # Add channel dimension\n",
    "    \n",
    "    return images, labels"
   ]
  },
  {
   "cell_type": "code",
   "execution_count": 69,
   "metadata": {},
   "outputs": [],
   "source": [
    "# Load images and labels\n",
    "folder_path = '/MYWork/NU/ML/Dataset'\n",
    "images, labels = load_dicom_images(folder_path)\n",
    "labels=pd.DataFrame(labels,columns=[\"Case\"])\n",
    "labels_one_hot=pd.get_dummies(labels)\n",
    "labels_one_hot\n",
    "labels_one_hot_np=labels_one_hot.values.astype(np.float32)\n",
    "\n",
    "\n",
    "# Split into training and validation sets\n",
    "X_train, X_test, y_train, y_test = train_test_split(images, labels_one_hot_np, test_size=0.2, random_state=42)\n"
   ]
  }
 ],
 "metadata": {
  "kernelspec": {
   "display_name": "Python 3",
   "language": "python",
   "name": "python3"
  },
  "language_info": {
   "codemirror_mode": {
    "name": "ipython",
    "version": 3
   },
   "file_extension": ".py",
   "mimetype": "text/x-python",
   "name": "python",
   "nbconvert_exporter": "python",
   "pygments_lexer": "ipython3",
   "version": "3.12.6"
  }
 },
 "nbformat": 4,
 "nbformat_minor": 2
}
